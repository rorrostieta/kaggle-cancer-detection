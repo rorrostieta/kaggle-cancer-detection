{
 "cells": [
  {
   "cell_type": "markdown",
   "id": "6ad80fd7",
   "metadata": {
    "papermill": {
     "duration": 0.005779,
     "end_time": "2022-09-14T22:33:28.347616",
     "exception": false,
     "start_time": "2022-09-14T22:33:28.341837",
     "status": "completed"
    },
    "tags": []
   },
   "source": [
    "# Week 3 CNN Cancer Detection Kaggle Mini-Project\n",
    "This is my project for the Deep Learning course focused on convolutional neural networks. You can find more info on GiHub on my profile [here](https://github.com/rorrostieta/KaggleCancerDetection). I'll be following the rubric given to create this project and guide you through my proces for the competition.\n",
    "\n",
    "The data can be found on Kaggle on the competition [Histopathologic Cancer Detection](https://www.kaggle.com/c/histopathologic-cancer-detection/) you can go there and look for more details to participate on the competition.\n",
    "\n",
    "## Problem\n",
    "In this competition we're given a series of small images or snippets from pathology scans, each of this scans may contain some cancerous tissue within them. Our goal is to create a model which identifies the presence of cancerous tissue within the images, since we're not doctors or specialists with the domain knowledge, the data provided to train the model is labelled where if there is an area of the image which contains cancerous tissue it is identified with a number 1.\n",
    "\n",
    "## Exploratory Data Analysis\n",
    "I'll be doing some basic EDA just to see if the data provided could be cleaned out and see how it is labeled."
   ]
  },
  {
   "cell_type": "code",
   "execution_count": 1,
   "id": "53d07c06",
   "metadata": {
    "execution": {
     "iopub.execute_input": "2022-09-14T22:33:28.359148Z",
     "iopub.status.busy": "2022-09-14T22:33:28.358608Z",
     "iopub.status.idle": "2022-09-14T22:33:28.863362Z",
     "shell.execute_reply": "2022-09-14T22:33:28.862027Z"
    },
    "papermill": {
     "duration": 0.514094,
     "end_time": "2022-09-14T22:33:28.866538",
     "exception": false,
     "start_time": "2022-09-14T22:33:28.352444",
     "status": "completed"
    },
    "tags": []
   },
   "outputs": [],
   "source": [
    "import pandas as pd\n",
    "import numpy as np\n",
    "from PIL import Image\n",
    "\n",
    "# Importing the Data\n",
    "df = pd.read_csv('../input/histopathologic-cancer-detection/train_labels.csv', dtype=str)"
   ]
  },
  {
   "cell_type": "code",
   "execution_count": 2,
   "id": "85a03309",
   "metadata": {
    "execution": {
     "iopub.execute_input": "2022-09-14T22:33:28.899683Z",
     "iopub.status.busy": "2022-09-14T22:33:28.899294Z",
     "iopub.status.idle": "2022-09-14T22:33:28.966191Z",
     "shell.execute_reply": "2022-09-14T22:33:28.965280Z"
    },
    "papermill": {
     "duration": 0.078983,
     "end_time": "2022-09-14T22:33:28.968700",
     "exception": false,
     "start_time": "2022-09-14T22:33:28.889717",
     "status": "completed"
    },
    "tags": []
   },
   "outputs": [
    {
     "name": "stdout",
     "output_type": "stream",
     "text": [
      "<class 'pandas.core.frame.DataFrame'>\n",
      "RangeIndex: 220025 entries, 0 to 220024\n",
      "Data columns (total 2 columns):\n",
      " #   Column  Non-Null Count   Dtype \n",
      "---  ------  --------------   ----- \n",
      " 0   id      220025 non-null  object\n",
      " 1   label   220025 non-null  object\n",
      "dtypes: object(2)\n",
      "memory usage: 3.4+ MB\n"
     ]
    }
   ],
   "source": [
    "# General info\n",
    "df.info()"
   ]
  },
  {
   "cell_type": "code",
   "execution_count": 3,
   "id": "a19c0c68",
   "metadata": {
    "execution": {
     "iopub.execute_input": "2022-09-14T22:33:28.986026Z",
     "iopub.status.busy": "2022-09-14T22:33:28.985137Z",
     "iopub.status.idle": "2022-09-14T22:33:29.405684Z",
     "shell.execute_reply": "2022-09-14T22:33:29.404719Z"
    },
    "papermill": {
     "duration": 0.432896,
     "end_time": "2022-09-14T22:33:29.408940",
     "exception": false,
     "start_time": "2022-09-14T22:33:28.976044",
     "status": "completed"
    },
    "tags": []
   },
   "outputs": [
    {
     "name": "stdout",
     "output_type": "stream",
     "text": [
      "% Positive Cases: 0    59.5\n",
      "1    40.5\n",
      "Name: label, dtype: float64\n",
      "% Nevative Cases: 0    40.5\n",
      "1    59.5\n",
      "Name: label, dtype: float64\n"
     ]
    },
    {
     "data": {
      "text/plain": [
       "<AxesSubplot:>"
      ]
     },
     "execution_count": 3,
     "metadata": {},
     "output_type": "execute_result"
    },
    {
     "data": {
      "image/png": "[encoded data removed]",
      "text/plain": [
       "<Figure size 432x288 with 1 Axes>"
      ]
     },
     "metadata": {
      "needs_background": "light"
     },
     "output_type": "display_data"
    }
   ],
   "source": [
    "# Histogram to label distribution\n",
    "pos_percent = round(df['label'].value_counts()/len(df['label'])*100, 2)\n",
    "neg_percent = 100 - pos_percent\n",
    "print('% Positive Cases:',pos_percent)\n",
    "print('% Nevative Cases:',neg_percent)\n",
    "df['label'].hist()"
   ]
  },
  {
   "cell_type": "code",
   "execution_count": 4,
   "id": "0ebfeb21",
   "metadata": {
    "execution": {
     "iopub.execute_input": "2022-09-14T22:33:29.425942Z",
     "iopub.status.busy": "2022-09-14T22:33:29.425512Z",
     "iopub.status.idle": "2022-09-14T22:33:29.497554Z",
     "shell.execute_reply": "2022-09-14T22:33:29.496067Z"
    },
    "papermill": {
     "duration": 0.083732,
     "end_time": "2022-09-14T22:33:29.500759",
     "exception": false,
     "start_time": "2022-09-14T22:33:29.417027",
     "status": "completed"
    },
    "tags": []
   },
   "outputs": [
    {
     "name": "stdout",
     "output_type": "stream",
     "text": [
      "Sample Img\n"
     ]
    },
    {
     "data": {
      "image/png": "[encoded data removed]",
      "text/plain": [
       "<PIL.TiffImagePlugin.TiffImageFile image mode=RGB size=96x96>"
      ]
     },
     "metadata": {},
     "output_type": "display_data"
    },
    {
     "name": "stdout",
     "output_type": "stream",
     "text": [
      "Image size: (96, 96)\n",
      "Image as array shape: (96, 96, 3)\n"
     ]
    }
   ],
   "source": [
    "df.id = df.id + '.tif'\n",
    "\n",
    "# Extracting a file to identify the structure\n",
    "eda_file = df['id'][0]\n",
    "im = Image.open(f'../input/histopathologic-cancer-detection/train/{eda_file}')\n",
    "\n",
    "print('Sample Img')\n",
    "display(im)\n",
    "print('Image size:',im.size)\n",
    "\n",
    "# Converting in to an array\n",
    "imarray = np.array(im)\n",
    "print('Image as array shape:',imarray.shape)\n",
    "# print(imarray)"
   ]
  },
  {
   "cell_type": "markdown",
   "id": "3ab1c2ce",
   "metadata": {
    "papermill": {
     "duration": 0.007965,
     "end_time": "2022-09-14T22:33:29.517790",
     "exception": false,
     "start_time": "2022-09-14T22:33:29.509825",
     "status": "completed"
    },
    "tags": []
   },
   "source": [
    "### EDA Results\n",
    "The results from the EDA we show that we have 220,025 entries with a 60/40 negative positive ratio respectively, this is useful since we have a good amount of examples to train the model.\n",
    "\n",
    "Each of the entry has an **id** corresponding to an image within the data set provided. This images are of size 96x96 pixels and when we transform these into arrays we can obtain the three planes RGB.\n",
    "\n",
    "## Model Architecture\n",
    "For this part I'm going to be starting off with the [VGG16](https://keras.io/api/applications/vgg/) architecture via transfer learning. After having part of the model within I'll add an additional set of layers to reduce the output even more for something interpretable by the model."
   ]
  },
  {
   "cell_type": "code",
   "execution_count": 5,
   "id": "9d63ab60",
   "metadata": {
    "execution": {
     "iopub.execute_input": "2022-09-14T22:33:29.536296Z",
     "iopub.status.busy": "2022-09-14T22:33:29.535776Z",
     "iopub.status.idle": "2022-09-14T22:33:35.834271Z",
     "shell.execute_reply": "2022-09-14T22:33:35.833271Z"
    },
    "papermill": {
     "duration": 6.310581,
     "end_time": "2022-09-14T22:33:35.836760",
     "exception": false,
     "start_time": "2022-09-14T22:33:29.526179",
     "status": "completed"
    },
    "tags": []
   },
   "outputs": [],
   "source": [
    "import os\n",
    "from sklearn.model_selection import train_test_split\n",
    "import tensorflow as tf\n",
    "from tensorflow.keras.preprocessing.image import ImageDataGenerator\n",
    "from tensorflow.keras.layers import *"
   ]
  },
  {
   "cell_type": "markdown",
   "id": "45ff4010",
   "metadata": {
    "papermill": {
     "duration": 0.005226,
     "end_time": "2022-09-14T22:33:35.847752",
     "exception": false,
     "start_time": "2022-09-14T22:33:35.842526",
     "status": "completed"
    },
    "tags": []
   },
   "source": [
    "First we have to set up the model with the trainig data creating both loaders for the train and validation data within the splits. I use a lot of the default values regarding the batch size and some hyperparameters due to computational intensiveness."
   ]
  },
  {
   "cell_type": "code",
   "execution_count": 6,
   "id": "c5bb02b2",
   "metadata": {
    "execution": {
     "iopub.execute_input": "2022-09-14T22:33:35.860630Z",
     "iopub.status.busy": "2022-09-14T22:33:35.859476Z",
     "iopub.status.idle": "2022-09-14T22:33:36.044339Z",
     "shell.execute_reply": "2022-09-14T22:33:36.043366Z"
    },
    "papermill": {
     "duration": 0.193659,
     "end_time": "2022-09-14T22:33:36.046852",
     "exception": false,
     "start_time": "2022-09-14T22:33:35.853193",
     "status": "completed"
    },
    "tags": []
   },
   "outputs": [],
   "source": [
    "train, test = train_test_split(df, stratify=df.label)\n",
    "generator = ImageDataGenerator(rescale=1/255)"
   ]
  },
  {
   "cell_type": "code",
   "execution_count": 7,
   "id": "fedb271a",
   "metadata": {
    "execution": {
     "iopub.execute_input": "2022-09-14T22:33:36.059550Z",
     "iopub.status.busy": "2022-09-14T22:33:36.059253Z",
     "iopub.status.idle": "2022-09-14T22:40:12.712832Z",
     "shell.execute_reply": "2022-09-14T22:40:12.711787Z"
    },
    "papermill": {
     "duration": 396.66745,
     "end_time": "2022-09-14T22:40:12.720081",
     "exception": false,
     "start_time": "2022-09-14T22:33:36.052631",
     "status": "completed"
    },
    "tags": []
   },
   "outputs": [
    {
     "name": "stdout",
     "output_type": "stream",
     "text": [
      "Found 165018 validated image filenames belonging to 2 classes.\n",
      "Found 55007 validated image filenames belonging to 2 classes.\n"
     ]
    }
   ],
   "source": [
    "train_load = generator.flow_from_dataframe(\n",
    "    dataframe = train,\n",
    "    directory = '../input/histopathologic-cancer-detection/train',\n",
    "    x_col = 'id',\n",
    "    y_col = 'label',\n",
    "    class_mode = 'categorical',\n",
    "    target_size = (96, 96)\n",
    ")\n",
    "\n",
    "test_load = generator.flow_from_dataframe(\n",
    "    dataframe = test,\n",
    "    directory = '../input/histopathologic-cancer-detection/train',\n",
    "    x_col = 'id',\n",
    "    y_col = 'label',\n",
    "    class_mode = 'categorical',\n",
    "    target_size = (96, 96)\n",
    ")"
   ]
  },
  {
   "cell_type": "markdown",
   "id": "b3a75605",
   "metadata": {
    "papermill": {
     "duration": 0.005291,
     "end_time": "2022-09-14T22:40:12.730993",
     "exception": false,
     "start_time": "2022-09-14T22:40:12.725702",
     "status": "completed"
    },
    "tags": []
   },
   "source": [
    "Loading the VGG16 model"
   ]
  },
  {
   "cell_type": "code",
   "execution_count": 8,
   "id": "77fc7719",
   "metadata": {
    "execution": {
     "iopub.execute_input": "2022-09-14T22:40:12.743517Z",
     "iopub.status.busy": "2022-09-14T22:40:12.743215Z",
     "iopub.status.idle": "2022-09-14T22:40:16.488969Z",
     "shell.execute_reply": "2022-09-14T22:40:16.487884Z"
    },
    "papermill": {
     "duration": 3.754525,
     "end_time": "2022-09-14T22:40:16.491060",
     "exception": false,
     "start_time": "2022-09-14T22:40:12.736535",
     "status": "completed"
    },
    "tags": []
   },
   "outputs": [
    {
     "name": "stderr",
     "output_type": "stream",
     "text": [
      "2022-09-14 22:40:12.873760: I tensorflow/stream_executor/cuda/cuda_gpu_executor.cc:937] successful NUMA node read from SysFS had negative value (-1), but there must be at least one NUMA node, so returning NUMA node zero\n",
      "2022-09-14 22:40:13.045354: I tensorflow/stream_executor/cuda/cuda_gpu_executor.cc:937] successful NUMA node read from SysFS had negative value (-1), but there must be at least one NUMA node, so returning NUMA node zero\n",
      "2022-09-14 22:40:13.046129: I tensorflow/stream_executor/cuda/cuda_gpu_executor.cc:937] successful NUMA node read from SysFS had negative value (-1), but there must be at least one NUMA node, so returning NUMA node zero\n",
      "2022-09-14 22:40:13.047861: I tensorflow/core/platform/cpu_feature_guard.cc:142] This TensorFlow binary is optimized with oneAPI Deep Neural Network Library (oneDNN) to use the following CPU instructions in performance-critical operations:  AVX2 AVX512F FMA\n",
      "To enable them in other operations, rebuild TensorFlow with the appropriate compiler flags.\n",
      "2022-09-14 22:40:13.048228: I tensorflow/stream_executor/cuda/cuda_gpu_executor.cc:937] successful NUMA node read from SysFS had negative value (-1), but there must be at least one NUMA node, so returning NUMA node zero\n",
      "2022-09-14 22:40:13.048921: I tensorflow/stream_executor/cuda/cuda_gpu_executor.cc:937] successful NUMA node read from SysFS had negative value (-1), but there must be at least one NUMA node, so returning NUMA node zero\n",
      "2022-09-14 22:40:13.049596: I tensorflow/stream_executor/cuda/cuda_gpu_executor.cc:937] successful NUMA node read from SysFS had negative value (-1), but there must be at least one NUMA node, so returning NUMA node zero\n",
      "2022-09-14 22:40:15.459923: I tensorflow/stream_executor/cuda/cuda_gpu_executor.cc:937] successful NUMA node read from SysFS had negative value (-1), but there must be at least one NUMA node, so returning NUMA node zero\n",
      "2022-09-14 22:40:15.460765: I tensorflow/stream_executor/cuda/cuda_gpu_executor.cc:937] successful NUMA node read from SysFS had negative value (-1), but there must be at least one NUMA node, so returning NUMA node zero\n",
      "2022-09-14 22:40:15.461433: I tensorflow/stream_executor/cuda/cuda_gpu_executor.cc:937] successful NUMA node read from SysFS had negative value (-1), but there must be at least one NUMA node, so returning NUMA node zero\n",
      "2022-09-14 22:40:15.462015: I tensorflow/core/common_runtime/gpu/gpu_device.cc:1510] Created device /job:localhost/replica:0/task:0/device:GPU:0 with 15401 MB memory:  -> device: 0, name: Tesla P100-PCIE-16GB, pci bus id: 0000:00:04.0, compute capability: 6.0\n"
     ]
    },
    {
     "name": "stdout",
     "output_type": "stream",
     "text": [
      "Downloading data from https://storage.googleapis.com/tensorflow/keras-applications/vgg16/vgg16_weights_tf_dim_ordering_tf_kernels_notop.h5\n",
      "58892288/58889256 [==============================] - 0s 0us/step\n",
      "58900480/58889256 [==============================] - 0s 0us/step\n",
      "Model: \"vgg16\"\n",
      "_________________________________________________________________\n",
      "Layer (type)                 Output Shape              Param #   \n",
      "=================================================================\n",
      "input_1 (InputLayer)         [(None, 96, 96, 3)]       0         \n",
      "_________________________________________________________________\n",
      "block1_conv1 (Conv2D)        (None, 96, 96, 64)        1792      \n",
      "_________________________________________________________________\n",
      "block1_conv2 (Conv2D)        (None, 96, 96, 64)        36928     \n",
      "_________________________________________________________________\n",
      "block1_pool (MaxPooling2D)   (None, 48, 48, 64)        0         \n",
      "_________________________________________________________________\n",
      "block2_conv1 (Conv2D)        (None, 48, 48, 128)       73856     \n",
      "_________________________________________________________________\n",
      "block2_conv2 (Conv2D)        (None, 48, 48, 128)       147584    \n",
      "_________________________________________________________________\n",
      "block2_pool (MaxPooling2D)   (None, 24, 24, 128)       0         \n",
      "_________________________________________________________________\n",
      "block3_conv1 (Conv2D)        (None, 24, 24, 256)       295168    \n",
      "_________________________________________________________________\n",
      "block3_conv2 (Conv2D)        (None, 24, 24, 256)       590080    \n",
      "_________________________________________________________________\n",
      "block3_conv3 (Conv2D)        (None, 24, 24, 256)       590080    \n",
      "_________________________________________________________________\n",
      "block3_pool (MaxPooling2D)   (None, 12, 12, 256)       0         \n",
      "_________________________________________________________________\n",
      "block4_conv1 (Conv2D)        (None, 12, 12, 512)       1180160   \n",
      "_________________________________________________________________\n",
      "block4_conv2 (Conv2D)        (None, 12, 12, 512)       2359808   \n",
      "_________________________________________________________________\n",
      "block4_conv3 (Conv2D)        (None, 12, 12, 512)       2359808   \n",
      "_________________________________________________________________\n",
      "block4_pool (MaxPooling2D)   (None, 6, 6, 512)         0         \n",
      "_________________________________________________________________\n",
      "block5_conv1 (Conv2D)        (None, 6, 6, 512)         2359808   \n",
      "_________________________________________________________________\n",
      "block5_conv2 (Conv2D)        (None, 6, 6, 512)         2359808   \n",
      "_________________________________________________________________\n",
      "block5_conv3 (Conv2D)        (None, 6, 6, 512)         2359808   \n",
      "_________________________________________________________________\n",
      "block5_pool (MaxPooling2D)   (None, 3, 3, 512)         0         \n",
      "=================================================================\n",
      "Total params: 14,714,688\n",
      "Trainable params: 0\n",
      "Non-trainable params: 14,714,688\n",
      "_________________________________________________________________\n"
     ]
    }
   ],
   "source": [
    "base_model = tf.keras.applications.VGG16(\n",
    "    input_shape=(96,96,3), \n",
    "    include_top=False, \n",
    "    weights='imagenet'\n",
    ")\n",
    "\n",
    "base_model.trainable = False\n",
    "\n",
    "base_model.summary()"
   ]
  },
  {
   "cell_type": "markdown",
   "id": "181a7705",
   "metadata": {
    "papermill": {
     "duration": 0.005902,
     "end_time": "2022-09-14T22:40:16.503321",
     "exception": false,
     "start_time": "2022-09-14T22:40:16.497419",
     "status": "completed"
    },
    "tags": []
   },
   "source": [
    "After having the base model loaded up we can see the sequence of the initial layers we're going to be using and to these I'll be appending a couple more. In this case we're doing:\n",
    "1. Normalization\n",
    "2. Dense - ReLu\n",
    "3. Dropout\n",
    "4. Dense - ReLu\n",
    "5. Dropout\n",
    "6. Normalization\n",
    "7. Dense - Softmax\n",
    "\n",
    "In the end I have decided to use softmax since in this problem we want to define if a pixel is present and it is cancerous we need to tag the entire image and there are no middle points."
   ]
  },
  {
   "cell_type": "code",
   "execution_count": 9,
   "id": "07808046",
   "metadata": {
    "execution": {
     "iopub.execute_input": "2022-09-14T22:40:16.516559Z",
     "iopub.status.busy": "2022-09-14T22:40:16.516271Z",
     "iopub.status.idle": "2022-09-14T22:40:16.621029Z",
     "shell.execute_reply": "2022-09-14T22:40:16.620016Z"
    },
    "papermill": {
     "duration": 0.113693,
     "end_time": "2022-09-14T22:40:16.623030",
     "exception": false,
     "start_time": "2022-09-14T22:40:16.509337",
     "status": "completed"
    },
    "tags": []
   },
   "outputs": [
    {
     "name": "stdout",
     "output_type": "stream",
     "text": [
      "Model: \"sequential\"\n",
      "_________________________________________________________________\n",
      "Layer (type)                 Output Shape              Param #   \n",
      "=================================================================\n",
      "vgg16 (Functional)           (None, 3, 3, 512)         14714688  \n",
      "_________________________________________________________________\n",
      "batch_normalization (BatchNo (None, 3, 3, 512)         2048      \n",
      "_________________________________________________________________\n",
      "flatten (Flatten)            (None, 4608)              0         \n",
      "_________________________________________________________________\n",
      "dense (Dense)                (None, 16)                73744     \n",
      "_________________________________________________________________\n",
      "dropout (Dropout)            (None, 16)                0         \n",
      "_________________________________________________________________\n",
      "dense_1 (Dense)              (None, 8)                 136       \n",
      "_________________________________________________________________\n",
      "dropout_1 (Dropout)          (None, 8)                 0         \n",
      "_________________________________________________________________\n",
      "batch_normalization_1 (Batch (None, 8)                 32        \n",
      "_________________________________________________________________\n",
      "dense_2 (Dense)              (None, 2)                 18        \n",
      "=================================================================\n",
      "Total params: 14,790,666\n",
      "Trainable params: 74,938\n",
      "Non-trainable params: 14,715,728\n",
      "_________________________________________________________________\n"
     ]
    }
   ],
   "source": [
    "cnn = tf.keras.models.Sequential([\n",
    "    base_model,\n",
    "    BatchNormalization(),\n",
    "\n",
    "    Flatten(),\n",
    "    \n",
    "    Dense(16, activation='relu'),\n",
    "    Dropout(0.5),\n",
    "    Dense(8, activation='relu'),\n",
    "    Dropout(0.5),\n",
    "    BatchNormalization(),\n",
    "    Dense(2, activation='softmax')\n",
    "])\n",
    "\n",
    "cnn.summary()"
   ]
  },
  {
   "cell_type": "code",
   "execution_count": 10,
   "id": "e294b2fb",
   "metadata": {
    "execution": {
     "iopub.execute_input": "2022-09-14T22:40:16.637332Z",
     "iopub.status.busy": "2022-09-14T22:40:16.635977Z",
     "iopub.status.idle": "2022-09-14T22:40:16.653424Z",
     "shell.execute_reply": "2022-09-14T22:40:16.652637Z"
    },
    "papermill": {
     "duration": 0.0261,
     "end_time": "2022-09-14T22:40:16.655217",
     "exception": false,
     "start_time": "2022-09-14T22:40:16.629117",
     "status": "completed"
    },
    "tags": []
   },
   "outputs": [],
   "source": [
    "opt = tf.keras.optimizers.Adam(0.001)\n",
    "cnn.compile(loss='categorical_crossentropy', optimizer=opt, metrics=['accuracy', tf.keras.metrics.AUC()])"
   ]
  },
  {
   "cell_type": "code",
   "execution_count": 11,
   "id": "98ffe2da",
   "metadata": {
    "execution": {
     "iopub.execute_input": "2022-09-14T22:40:16.669254Z",
     "iopub.status.busy": "2022-09-14T22:40:16.668479Z",
     "iopub.status.idle": "2022-09-14T23:29:07.741138Z",
     "shell.execute_reply": "2022-09-14T23:29:07.740079Z"
    },
    "papermill": {
     "duration": 2932.390531,
     "end_time": "2022-09-14T23:29:09.052005",
     "exception": false,
     "start_time": "2022-09-14T22:40:16.661474",
     "status": "completed"
    },
    "tags": []
   },
   "outputs": [
    {
     "name": "stderr",
     "output_type": "stream",
     "text": [
      "2022-09-14 22:40:16.940127: I tensorflow/compiler/mlir/mlir_graph_optimization_pass.cc:185] None of the MLIR Optimization Passes are enabled (registered 2)\n"
     ]
    },
    {
     "name": "stdout",
     "output_type": "stream",
     "text": [
      "Epoch 1/5\n"
     ]
    },
    {
     "name": "stderr",
     "output_type": "stream",
     "text": [
      "2022-09-14 22:40:19.228389: I tensorflow/stream_executor/cuda/cuda_dnn.cc:369] Loaded cuDNN version 8005\n"
     ]
    },
    {
     "name": "stdout",
     "output_type": "stream",
     "text": [
      "5157/5157 [==============================] - 1350s 260ms/step - loss: 0.4813 - accuracy: 0.7687 - auc: 0.8572 - val_loss: 0.3645 - val_accuracy: 0.8407 - val_auc: 0.9219\n",
      "Epoch 2/5\n",
      "5157/5157 [==============================] - 394s 76ms/step - loss: 0.4348 - accuracy: 0.8019 - auc: 0.8879 - val_loss: 0.3581 - val_accuracy: 0.8409 - val_auc: 0.9223\n",
      "Epoch 3/5\n",
      "5157/5157 [==============================] - 323s 63ms/step - loss: 0.4227 - accuracy: 0.8081 - auc: 0.8947 - val_loss: 0.3462 - val_accuracy: 0.8549 - val_auc: 0.9321\n",
      "Epoch 4/5\n",
      "5157/5157 [==============================] - 315s 61ms/step - loss: 0.4153 - accuracy: 0.8142 - auc: 0.8984 - val_loss: 0.3440 - val_accuracy: 0.8506 - val_auc: 0.9297\n",
      "Epoch 5/5\n",
      "5157/5157 [==============================] - 325s 63ms/step - loss: 0.4092 - accuracy: 0.8149 - auc: 0.9009 - val_loss: 0.3302 - val_accuracy: 0.8585 - val_auc: 0.9349\n",
      "CPU times: user 21min 3s, sys: 2min 30s, total: 23min 34s\n",
      "Wall time: 48min 51s\n"
     ]
    }
   ],
   "source": [
    "%%time \n",
    "\n",
    "h1 = cnn.fit(\n",
    "    x = train_load, \n",
    "    steps_per_epoch = len(train_load), \n",
    "    epochs = 5,\n",
    "    validation_data = test_load, \n",
    "    validation_steps = len(test_load), \n",
    "    verbose = 1\n",
    ")"
   ]
  },
  {
   "cell_type": "markdown",
   "id": "8438e47f",
   "metadata": {},
   "source": [
    "Now that we have the CNN ready we run the test dataset through the model to see what can we obtain from the VGG16 and the layers we added."
   ]
  },
  {
   "cell_type": "code",
   "execution_count": 12,
   "id": "0ad61eb3",
   "metadata": {
    "execution": {
     "iopub.execute_input": "2022-09-14T23:29:11.184697Z",
     "iopub.status.busy": "2022-09-14T23:29:11.184155Z",
     "iopub.status.idle": "2022-09-14T23:29:11.265964Z",
     "shell.execute_reply": "2022-09-14T23:29:11.264836Z"
    },
    "papermill": {
     "duration": 1.176596,
     "end_time": "2022-09-14T23:29:11.268362",
     "exception": false,
     "start_time": "2022-09-14T23:29:10.091766",
     "status": "completed"
    },
    "tags": []
   },
   "outputs": [],
   "source": [
    "test_files = pd.read_csv('../input/histopathologic-cancer-detection/sample_submission.csv')\n",
    "test_files['filename'] = test_files.id + '.tif'"
   ]
  },
  {
   "cell_type": "code",
   "execution_count": 14,
   "id": "b0f24a80",
   "metadata": {
    "execution": {
     "iopub.execute_input": "2022-09-14T23:29:15.609952Z",
     "iopub.status.busy": "2022-09-14T23:29:15.609413Z",
     "iopub.status.idle": "2022-09-14T23:31:22.424827Z",
     "shell.execute_reply": "2022-09-14T23:31:22.423793Z"
    },
    "papermill": {
     "duration": 128.925495,
     "end_time": "2022-09-14T23:31:23.446885",
     "exception": false,
     "start_time": "2022-09-14T23:29:14.521390",
     "status": "completed"
    },
    "tags": []
   },
   "outputs": [
    {
     "name": "stdout",
     "output_type": "stream",
     "text": [
      "Found 57458 validated image filenames.\n"
     ]
    }
   ],
   "source": [
    "load = generator.flow_from_dataframe(\n",
    "    dataframe = test_files,\n",
    "    directory = '../input/histopathologic-cancer-detection/test',\n",
    "    x_col = 'filename',\n",
    "    batch_size = 10,\n",
    "    shuffle = False,\n",
    "    class_mode = None,\n",
    "    target_size = (96, 96)\n",
    ")"
   ]
  },
  {
   "cell_type": "code",
   "execution_count": 15,
   "id": "b699f553",
   "metadata": {
    "execution": {
     "iopub.execute_input": "2022-09-14T23:31:25.622016Z",
     "iopub.status.busy": "2022-09-14T23:31:25.621538Z",
     "iopub.status.idle": "2022-09-14T23:36:48.782612Z",
     "shell.execute_reply": "2022-09-14T23:36:48.781439Z"
    },
    "papermill": {
     "duration": 324.236419,
     "end_time": "2022-09-14T23:36:48.785203",
     "exception": false,
     "start_time": "2022-09-14T23:31:24.548784",
     "status": "completed"
    },
    "tags": []
   },
   "outputs": [],
   "source": [
    "probs = cnn.predict(load)"
   ]
  },
  {
   "cell_type": "markdown",
   "id": "f1872841",
   "metadata": {},
   "source": [
    "With the probabilities I can interpret them as the probability of the image being a `0` **no cancerous cells** or a `1` **cancerous cells present** to simplify this for the problem I have used the args max to see which of the two has the highest probability and consider it as a prediction since this problem is binary."
   ]
  },
  {
   "cell_type": "code",
   "execution_count": 16,
   "id": "58dc3a99",
   "metadata": {
    "execution": {
     "iopub.execute_input": "2022-09-14T23:36:51.120628Z",
     "iopub.status.busy": "2022-09-14T23:36:51.120028Z",
     "iopub.status.idle": "2022-09-14T23:36:51.125466Z",
     "shell.execute_reply": "2022-09-14T23:36:51.124336Z"
    },
    "papermill": {
     "duration": 1.228032,
     "end_time": "2022-09-14T23:36:51.127532",
     "exception": false,
     "start_time": "2022-09-14T23:36:49.899500",
     "status": "completed"
    },
    "tags": []
   },
   "outputs": [],
   "source": [
    "prediction = np.argmax(probs, axis =1)"
   ]
  },
  {
   "cell_type": "code",
   "execution_count": 17,
   "id": "0bf0d591",
   "metadata": {
    "execution": {
     "iopub.execute_input": "2022-09-14T23:36:53.255349Z",
     "iopub.status.busy": "2022-09-14T23:36:53.254981Z",
     "iopub.status.idle": "2022-09-14T23:36:53.303121Z",
     "shell.execute_reply": "2022-09-14T23:36:53.302204Z"
    },
    "papermill": {
     "duration": 1.115364,
     "end_time": "2022-09-14T23:36:53.305231",
     "exception": false,
     "start_time": "2022-09-14T23:36:52.189867",
     "status": "completed"
    },
    "tags": []
   },
   "outputs": [],
   "source": [
    "df_test = pd.read_csv('../input/histopathologic-cancer-detection/sample_submission.csv')\n",
    "df_test.label = prediction"
   ]
  },
  {
   "cell_type": "code",
   "execution_count": 18,
   "id": "27c80575",
   "metadata": {
    "execution": {
     "iopub.execute_input": "2022-09-14T23:36:55.872226Z",
     "iopub.status.busy": "2022-09-14T23:36:55.871838Z",
     "iopub.status.idle": "2022-09-14T23:36:55.878230Z",
     "shell.execute_reply": "2022-09-14T23:36:55.877279Z"
    },
    "papermill": {
     "duration": 1.398343,
     "end_time": "2022-09-14T23:36:55.880776",
     "exception": false,
     "start_time": "2022-09-14T23:36:54.482433",
     "status": "completed"
    },
    "tags": []
   },
   "outputs": [
    {
     "data": {
      "text/plain": [
       "(57458, 2)"
      ]
     },
     "execution_count": 18,
     "metadata": {},
     "output_type": "execute_result"
    }
   ],
   "source": [
    "df_test.shape"
   ]
  },
  {
   "cell_type": "code",
   "execution_count": 19,
   "id": "30be0c71",
   "metadata": {
    "execution": {
     "iopub.execute_input": "2022-09-14T23:36:58.010414Z",
     "iopub.status.busy": "2022-09-14T23:36:58.010024Z",
     "iopub.status.idle": "2022-09-14T23:36:58.099755Z",
     "shell.execute_reply": "2022-09-14T23:36:58.098874Z"
    },
    "papermill": {
     "duration": 1.157645,
     "end_time": "2022-09-14T23:36:58.102027",
     "exception": false,
     "start_time": "2022-09-14T23:36:56.944382",
     "status": "completed"
    },
    "tags": []
   },
   "outputs": [],
   "source": [
    "df_test.to_csv('submission.csv', header = True, index = False)"
   ]
  },
  {
   "cell_type": "markdown",
   "id": "f247ab1e",
   "metadata": {},
   "source": [
    "## Results and Analysis\n",
    "The problem is binary and in this case the results is either one or zero. In our case the results showed that using the VGG16 with additional layers I managed to achieve an accuracy score of `0.7855` which for a first review is good enough.\n",
    "\n",
    "In terms of hyperparamter tunning we could do some changes in the layers I've added to see if this is optimized in any way. But due to the short timeline for this project I was not able to do another run of sets to check how the model could improve with other layers.\n",
    "\n",
    "### Is this model useful?\n",
    "Due to the nature of the problem in this case cancer detection that score wouldn't be super useful since this is such a senstivie matter we would be focusing more on how we can improve this score. Data is really there so we would need to get a better performing machine in order to be able to do more iterations and tune hyperparameters much more effectively.\n",
    "\n",
    "## Conclusion\n",
    "This was a really great project to work the following points:\n",
    "* Usage of CNN\n",
    "\n",
    "I was able to do this first approach into the usage of CNN with images and see the outputs and the resources these tools need.\n",
    "* Transfer Learning\n",
    "\n",
    "Usage of existing models to build proposals which might be better overall leaving room to grow for me and other data scientists.\n",
    "\n",
    "* Results as Probabilities\n",
    "\n",
    "The CNN prediction returned probabilities which were simple for this binary problem but when we add more results or prediction labels we might run into problems.\n",
    "\n",
    "To end this project this was a really great experience regarding the usage of CNN to make predictions with labeled information. This is somewhat relatable to a supervised ML problem where Deep Learning is really useful to handle great amounts of information."
   ]
  }
 ],
 "metadata": {
  "kernelspec": {
   "display_name": "Python 3.10.6 64-bit",
   "language": "python",
   "name": "python3"
  },
  "language_info": {
   "codemirror_mode": {
    "name": "ipython",
    "version": 3
   },
   "file_extension": ".py",
   "mimetype": "text/x-python",
   "name": "python",
   "nbconvert_exporter": "python",
   "pygments_lexer": "ipython3",
   "version": "3.10.6"
  },
  "papermill": {
   "default_parameters": {},
   "duration": 3821.68061,
   "end_time": "2022-09-14T23:37:02.298210",
   "environment_variables": {},
   "exception": null,
   "input_path": "__notebook__.ipynb",
   "output_path": "__notebook__.ipynb",
   "parameters": {},
   "start_time": "2022-09-14T22:33:20.617600",
   "version": "2.3.4"
  },
  "vscode": {
   "interpreter": {
    "hash": "fa5e5e9a487e2dd76c7ea7823608b3e5576beb764152fabbf69ac7563ac3923b"
   }
  }
 },
 "nbformat": 4,
 "nbformat_minor": 5
}
